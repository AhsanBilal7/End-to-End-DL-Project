{
 "cells": [
  {
   "cell_type": "code",
   "execution_count": 1,
   "metadata": {},
   "outputs": [
    {
     "name": "stdout",
     "output_type": "stream",
     "text": [
      "d:\\interview\\End-to-End-DL\\research\n"
     ]
    }
   ],
   "source": [
    "import os \n",
    "current_dir = os.getcwd()\n",
    "print(current_dir)\n",
    "os.chdir(\"../\")"
   ]
  },
  {
   "cell_type": "code",
   "execution_count": 1,
   "metadata": {},
   "outputs": [
    {
     "ename": "IndentationError",
     "evalue": "expected an indented block (649513285.py, line 21)",
     "output_type": "error",
     "traceback": [
      "\u001b[1;36m  Cell \u001b[1;32mIn[1], line 21\u001b[1;36m\u001b[0m\n\u001b[1;33m    class ConfigurationManager:\u001b[0m\n\u001b[1;37m    ^\u001b[0m\n\u001b[1;31mIndentationError\u001b[0m\u001b[1;31m:\u001b[0m expected an indented block\n"
     ]
    }
   ],
   "source": [
    "from cnnClassifier.utils import read_yaml , create_directories\n",
    "from cnnClassifier.constants import  *\n",
    "from dataclasses import dataclass\n",
    "from pathlib import Path\n",
    "import os\n",
    "from cnnClassifier import logging\n",
    "from dataclasses import dataclass\n",
    "from pathlib import Path\n",
    "\n",
    "\n",
    "@dataclass(frozen=True)\n",
    "class PrepareCallbackConfig:\n",
    "    root_dir: Path\n",
    "    tensorboard_root_log_dir: Path\n",
    "    checkpoint_model_filepath: Path\n",
    "\n",
    "\n",
    "@dataclass(frozen=True)\n",
    "class TrainingConfig:\n",
    "    root_dir: Path\n",
    "    trained_model_path:Path\n",
    "    update_base_model:Path\n",
    "    training_data: Path\n",
    "    params_epoch: int\n",
    "    params_batch_size = int\n",
    "    params_is_augmented : bool\n",
    "    params_image_size: list\n",
    "\n",
    "class ConfigurationManager:\n",
    "    def __init__(self,\n",
    "        config_file_path = CONFIG_FILE_PATH,\n",
    "        params_file_path = PARAMS_FILE_PATH):\n",
    "        self.config_file = read_yaml(config_file_path)\n",
    "        self.params = read_yaml(params_file_path)\n",
    "        create_directories([self.config_file.artifacts_root])\n",
    "\n",
    "    def get_prepare_callback_config(self) -> PrepareCallbackConfig:\n",
    "        config = self.config_file.prepare_callbacks\n",
    "        \n",
    "        model_ckp = os.path.dirname(config.checkpoint_model_filepath)\n",
    "\n",
    "\n",
    "        create_directories([Path(model_ckp) , Path(config.tensorboard_root_log_dir)])\n",
    "        \n",
    "        prepare_callback_config = PrepareCallbackConfig(\n",
    "            root_dir=Path(config.root_dir),\n",
    "            tensorboard_root_log_dir=Path(config.tensorboard_root_log_dir),\n",
    "            checkpoint_model_filepath=Path(config.checkpoint_model_filepath)\n",
    "        )\n",
    "        return prepare_callback_config"
   ]
  },
  {
   "cell_type": "code",
   "execution_count": 3,
   "metadata": {},
   "outputs": [
    {
     "name": "stdout",
     "output_type": "stream",
     "text": [
      "[2024-01-22 23:46:27,986: INFO: utils: Note: NumExpr detected 12 cores but \"NUMEXPR_MAX_THREADS\" not set, so enforcing safe limit of 8.]\n",
      "[2024-01-22 23:46:27,996: INFO: utils: NumExpr defaulting to 8 threads.]\n"
     ]
    }
   ],
   "source": [
    "import tensorflow as tf\n",
    "import time \n",
    "class PrepareCallback:  \n",
    "    def __init__(self, config:PrepareCallbackConfig):\n",
    "        self.config = config\n",
    "    \n",
    "    @property\n",
    "    def _create_tensorboard_callback(self):\n",
    "        timestamp = time.strftime(\"%Y-%m-%d-%H-%M-%S\")\n",
    "        tb_log_dir = os.path.join(self.config.tensorboard_root_log_dir, f\"tb_log_dir_{timestamp}\")\n",
    "\n",
    "        return tf.keras.callbacks.TensorBoard(log_dir=tb_log_dir)\n",
    "    \n",
    "    @property\n",
    "    def _create_ckpt_callback(self):\n",
    "        return  tf.keras.callbacks.ModelCheckpoint(\n",
    "            filepath = self.config.checkpoint_model_filepath,\n",
    "            save_best_only=True\n",
    "        )\n",
    "\n",
    "    \n",
    "    def get_tb_ckpt_callback(self):\n",
    "        return [\n",
    "            self._create_tensorboard_callback,\n",
    "            self._create_ckpt_callback\n",
    "        ]\n"
   ]
  },
  {
   "cell_type": "code",
   "execution_count": 4,
   "metadata": {},
   "outputs": [
    {
     "name": "stdout",
     "output_type": "stream",
     "text": [
      "[2024-01-22 23:46:29,948: INFO: common: yaml file: config\\config.yaml loaded successfully]\n",
      "[2024-01-22 23:46:29,955: INFO: common: yaml file: params.yaml loaded successfully]\n",
      "[2024-01-22 23:46:29,959: INFO: common: created directory at: artifacts]\n",
      "[2024-01-22 23:46:29,964: INFO: common: created directory at: artifacts\\prepare_callbacks]\n",
      "[2024-01-22 23:46:29,969: INFO: common: created directory at: artifacts\\prepare_callbacks\\tensorboard_logs]\n"
     ]
    }
   ],
   "source": [
    "\n",
    "try:\n",
    "    config_manager = ConfigurationManager()\n",
    "    callback_config = config_manager.get_prepare_callback_config()\n",
    "    prepare_callbacks = PrepareCallback(config = callback_config)\n",
    "    callback = prepare_callbacks.get_tb_ckpt_callback()\n",
    "except Exception as e:\n",
    "    print(e)\n",
    "    logging(e)\n",
    "    "
   ]
  },
  {
   "cell_type": "code",
   "execution_count": null,
   "metadata": {},
   "outputs": [],
   "source": []
  },
  {
   "cell_type": "code",
   "execution_count": null,
   "metadata": {},
   "outputs": [],
   "source": []
  }
 ],
 "metadata": {
  "kernelspec": {
   "display_name": "tf",
   "language": "python",
   "name": "python3"
  },
  "language_info": {
   "codemirror_mode": {
    "name": "ipython",
    "version": 3
   },
   "file_extension": ".py",
   "mimetype": "text/x-python",
   "name": "python",
   "nbconvert_exporter": "python",
   "pygments_lexer": "ipython3",
   "version": "3.9.16"
  }
 },
 "nbformat": 4,
 "nbformat_minor": 2
}

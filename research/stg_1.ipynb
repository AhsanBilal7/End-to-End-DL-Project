{
 "cells": [
  {
   "cell_type": "code",
   "execution_count": 1,
   "metadata": {},
   "outputs": [],
   "source": [
    "from collections import namedtuple\n",
    "import os\n"
   ]
  },
  {
   "cell_type": "code",
   "execution_count": 2,
   "metadata": {},
   "outputs": [],
   "source": [
    "os.chdir(\"../\")"
   ]
  },
  {
   "cell_type": "code",
   "execution_count": 3,
   "metadata": {},
   "outputs": [
    {
     "name": "stdout",
     "output_type": "stream",
     "text": [
      "John\n",
      "30\n"
     ]
    }
   ],
   "source": [
    "from collections import namedtuple\n",
    "\n",
    "# Define a named tuple type called 'Person' with fields 'name' and 'age'\n",
    "Person = namedtuple('Person', ['name', 'age'])\n",
    "\n",
    "# Create an instance of the named tuple\n",
    "person = Person(name='John', age=30)\n",
    "\n",
    "# Access fields using dot notation\n",
    "print(person.name)  # Output: John\n",
    "print(person.age)   # Output: 30\n"
   ]
  },
  {
   "cell_type": "code",
   "execution_count": 4,
   "metadata": {},
   "outputs": [],
   "source": [
    "DataIngestionConfig = namedtuple(\"DataIngestionConfig\", [\n",
    "    \"root_dir\",\n",
    "    \"source_URL\",\n",
    "    \"local_data_file\",\n",
    "    \"unzip_dir\"\n",
    "])"
   ]
  },
  {
   "cell_type": "code",
   "execution_count": 5,
   "metadata": {},
   "outputs": [],
   "source": [
    "from dataclasses import dataclass\n",
    "from pathlib import Path\n",
    "\n",
    "\n",
    "@dataclass(frozen=True)\n",
    "class DataIngestionConfig:\n",
    "    root_dir: Path\n",
    "    source_URL: str\n",
    "    local_data_file: Path\n",
    "    unzip_dir: Path\n",
    "# By entity, we mean this "
   ]
  },
  {
   "cell_type": "code",
   "execution_count": 6,
   "metadata": {},
   "outputs": [],
   "source": [
    "from cnnClassifier.utils import read_yaml , create_directories\n",
    "from cnnClassifier.constants import  *\n",
    "\n",
    "\n",
    "\n",
    "class ConfigurationManager:\n",
    "    def __init__(self,\n",
    "        config_file_path = CONFIG_FILE_PATH,\n",
    "        params_file_path = PARAMS_FILE_PATH):\n",
    "        self.config_file = read_yaml(config_file_path)\n",
    "        self.params_file = read_yaml(params_file_path)\n",
    "        create_directories([self.config_file.artifacts_root])\n",
    "\n",
    "    def get_data_ingestion_config(self) -> DataIngestionConfig:\n",
    "        config = self.config_file.data_ingestion\n",
    "        create_directories([config.root_dir])\n",
    "        \n",
    "        data_ingestion_config = DataIngestionConfig(\n",
    "            root_dir = config.root_dir,\n",
    "            source_URL = config.source_URL,\n",
    "            local_data_file = config.local_data_file,\n",
    "            unzip_dir = config.unzip_dir\n",
    "        )\n",
    "        return data_ingestion_config"
   ]
  },
  {
   "cell_type": "code",
   "execution_count": 7,
   "metadata": {},
   "outputs": [],
   "source": [
    "import os\n",
    "import urllib.request as request\n",
    "from zipfile import ZipFile"
   ]
  },
  {
   "cell_type": "code",
   "execution_count": 12,
   "metadata": {},
   "outputs": [],
   "source": [
    "class DataIngestion:\n",
    "    def __init__(self, config: DataIngestionConfig):\n",
    "        self.config = config\n",
    "    \n",
    "    def download_file(self):\n",
    "         if not os.path.exists(self.config.local_data_file):\n",
    "            filename, header = request.urlretrieve(\n",
    "                url  = self.config.source_URL,\n",
    "                filename = self.config.local_data_file\n",
    "            )\n",
    "    # to take only jpgs\n",
    "    # These are the hidden function, user can access it\n",
    "    def _get_update_list_file(self, list_of_file):\n",
    "        return  [file for file in list_of_file if file.endswith(\".jpg\") and (\"Cat\" in file or \"Dog\" in file)]\n",
    "    \n",
    "    # to remove 0 kb files\n",
    "    def _preprocess(self, zf, f, unzip_dir):\n",
    "        target_file = os.path.join(unzip_dir, f)\n",
    "        if not os.path.exists(target_file):\n",
    "            zf.extract(f , unzip_dir)  # f: PetImages/Cat/0.jpg , unzip_dir: artifacts/data_ingestion, zf: zip file\n",
    "        \n",
    "        if os.path.getsize(target_file) == 0:\n",
    "            os.remove(target_file)\n",
    "\n",
    "\n",
    "    def unzip_and_clean(self):\n",
    "        with ZipFile(self.config.local_data_file, 'r') as zf:\n",
    "            list_of_file = zf.namelist()\n",
    "            # cat/dog folder\n",
    "            # This update return files as ['PetImages/Cat/0.jpg',...]\n",
    "            update_list_file = self._get_update_list_file(list_of_file)    # ['PetImages/Cat/0.jpg',...] \n",
    "            \n",
    "            # to take only the jpg files\n",
    "            # This is the hidden function, user can't access it\n",
    "            # Preprocess and extract single file and check whether the size is 0 or not\n",
    "            for f in update_list_file:\n",
    "                self._preprocess(zf, f ,self.config.unzip_dir)"
   ]
  },
  {
   "cell_type": "code",
   "execution_count": 13,
   "metadata": {},
   "outputs": [
    {
     "data": {
      "text/plain": [
       "'\\n \\n\\n'"
      ]
     },
     "execution_count": 13,
     "metadata": {},
     "output_type": "execute_result"
    }
   ],
   "source": [
    "'''\n",
    " \n",
    "\n",
    "'''"
   ]
  },
  {
   "cell_type": "code",
   "execution_count": 17,
   "metadata": {},
   "outputs": [],
   "source": [
    "# with ZipFile(\"C:/Users/Pc/Downloads/Compressed/cat-dog-data.zip\", 'r') as zf:\n",
    "#             list_of_file = zf.namelist()\n",
    "\n",
    "#             print([file for file in list_of_file if file.endswith(\".jpg\") and (\"Cat\" in file or \"Dog\" in file)])"
   ]
  },
  {
   "cell_type": "code",
   "execution_count": 15,
   "metadata": {},
   "outputs": [
    {
     "name": "stdout",
     "output_type": "stream",
     "text": [
      "[2023-12-23 20:06:55,970: INFO: common: yaml file: config\\config.yaml loaded successfully]\n",
      "[2023-12-23 20:06:55,973: INFO: common: yaml file: params.yaml loaded successfully]\n",
      "[2023-12-23 20:06:55,975: INFO: common: created directory at: artifacts]\n",
      "[2023-12-23 20:06:55,976: INFO: common: created directory at: artifacts/data_ingestion]\n"
     ]
    }
   ],
   "source": [
    "try: \n",
    "    config = ConfigurationManager()\n",
    "    data_ingestion_config = config.get_data_ingestion_config()\n",
    "    data_ingestion = DataIngestion(config = data_ingestion_config)\n",
    "    data_ingestion.download_file()\n",
    "    data_ingestion.unzip_and_clean()\n",
    "except Exception as e:\n",
    "    print(e)\n",
    "\n",
    "\n"
   ]
  },
  {
   "cell_type": "code",
   "execution_count": null,
   "metadata": {},
   "outputs": [],
   "source": []
  }
 ],
 "metadata": {
  "kernelspec": {
   "display_name": "tf",
   "language": "python",
   "name": "python3"
  },
  "language_info": {
   "codemirror_mode": {
    "name": "ipython",
    "version": 3
   },
   "file_extension": ".py",
   "mimetype": "text/x-python",
   "name": "python",
   "nbconvert_exporter": "python",
   "pygments_lexer": "ipython3",
   "version": "3.9.16"
  }
 },
 "nbformat": 4,
 "nbformat_minor": 2
}
